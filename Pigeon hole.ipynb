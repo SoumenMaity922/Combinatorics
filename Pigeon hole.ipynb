{
 "cells": [
  {
   "cell_type": "markdown",
   "metadata": {},
   "source": [
    "**Pigeon-Hole Principle:** Let $n$ and $k$ be positive integers and let $n > k$. Suppose, we have to place the $n$ identical balls into $k$ identical boxes. Then, there will be at least one box in which we place at least two balls.\n",
    "\n",
    "**Problem:** There is an element in the sequence $7,77,777,\\cdots$ that is divisible by $2003$. \n",
    "\n",
    "In theory class, we have seen that if we consider first $2003$ elements of this sequence, we are able to show that there exist an element within these $2003$ many elements, which is divisible by $2003$.\n",
    "\n",
    "Here,computationally we prove this result and fidn that number which is divisible by $2003$. Along with this, we also want to investigate the time to find the element."
   ]
  },
  {
   "cell_type": "code",
   "execution_count": 1,
   "metadata": {},
   "outputs": [],
   "source": [
    "import time\n",
    "import itertools as itr\n",
    "import matplotlib.pyplot as plt"
   ]
  },
  {
   "cell_type": "code",
   "execution_count": 2,
   "metadata": {},
   "outputs": [
    {
     "name": "stdout",
     "output_type": "stream",
     "text": [
      "The position in the sequence of the divisible number is 1000 \n",
      " The number is 77777777777777777777777777777777777777777777777777777777777777777777777777777777777777777777777777777777777777777777777777777777777777777777777777777777777777777777777777777777777777777777777777777777777777777777777777777777777777777777777777777777777777777777777777777777777777777777777777777777777777777777777777777777777777777777777777777777777777777777777777777777777777777777777777777777777777777777777777777777777777777777777777777777777777777777777777777777777777777777777777777777777777777777777777777777777777777777777777777777777777777777777777777777777777777777777777777777777777777777777777777777777777777777777777777777777777777777777777777777777777777777777777777777777777777777777777777777777777777777777777777777777777777777777777777777777777777777777777777777777777777777777777777777777777777777777777777777777777777777777777777777777777777777777777777777777777777777777777777777777777777777777777777777777777777777777777777777777777777777777777777777777777777777777777777777777777777\n",
      "The time taken to find the number is 0.003282308578491211\n"
     ]
    }
   ],
   "source": [
    "n = 2003\n",
    "seq = [int('7'*i) for i in range(1,n+1)]\n",
    "strt = time.time()\n",
    "for i in range(0,len(seq)+1):\n",
    "    if (seq[i]%n) ==0:\n",
    "        print(f\"The position in the sequence of the divisible number is\",i,\"\\n\",\"The number is\", seq[i])\n",
    "        break\n",
    "end = time.time()\n",
    "print(f\"The time taken to find the number is\",end - strt)\n",
    "    "
   ]
  },
  {
   "cell_type": "markdown",
   "metadata": {},
   "source": [
    "**Stirling Number of 2nd kind:** Suppose we have $n$ many not identical (different) objects and $k$ many identical boxes with $n \\ge k$. Since the objects are different, so we can lebel them. We want to partition the set $S[n] = \\{1,2,\\cdots,n\\}$ into $k$ many no-empty subsets. The number of partitions is denoted by $S(n,k)$, called Stirling number of 2nd kind.\n",
    "\n",
    "The objects are not identical, because if they are identical, then it might be possible that one object has putted in two different boxes, which is not possible. Although it doesn't matter that which object has came first in any one of the boxes, so the order of the elements doesn't matter but their identifications are matter here!!!!!!. So, it is necessary to take the balls or the objects are not identical.\n",
    "\n",
    "**Some Properties of Strling number of 2nd kind :**\n",
    "\n",
    "1. S(0,0,) = 1\n",
    "\n",
    "2. S(n,k)=0, if $\\text{ if n < k }$\n",
    "\n",
    "3. S(n,1) = S(n,n) = 1\n",
    "\n",
    "4. S(n,n-1) = $n \\choose 2$\n",
    "\n",
    "The recurrence relations we have found in our theoritical class is given by: \n",
    "\n",
    "* The first recurrence relation is $$S(nk) = S(n-1,k-1) +  kS(n-1,k), \\forall n < k$$\n",
    "\n",
    "* The second recurrence relation is $$S(n+1,k) = \\sum_{i =0}^{n}{n \\choose k}S(n-i,k-1)$$.\n",
    "\n",
    "Also, we have found an easiest way using `Inclusion-Exclusion Principle` to count the Stirling number of 2nd kind without using any recurrence relation and the formula is given by: $$S(n,k) = \\frac{1}{k!}\\sum_{j = 0}^{k}(-1)^j{k \\choose j}(k-j)^n$$."
   ]
  },
  {
   "cell_type": "code",
   "execution_count": 3,
   "metadata": {},
   "outputs": [],
   "source": [
    "def stirling_num_2nd_kind_1st_rf(n,k):\n",
    "    if (n==0 & k==0):\n",
    "        return 1\n",
    "    if (n<k):\n",
    "        return 0\n",
    "    else:\n",
    "        s = 0\n",
    "        if (k ==1 or k==n):\n",
    "            s = s +1\n",
    "        else:\n",
    "            s += stirling_num_2nd_kind_1st_rf(n-1,k-1) + k*stirling_num_2nd_kind_1st_rf(n-1,k)\n",
    "    return s"
   ]
  },
  {
   "cell_type": "code",
   "execution_count": 4,
   "metadata": {},
   "outputs": [],
   "source": [
    "nlist = [1,2,..,20]\n",
    "L = []\n",
    "strt = time.time()\n",
    "time_list = []\n",
    "for n in nlist:\n",
    "    srt =time.time()\n",
    "    temp = [stirling_num_2nd_kind_1st_rf(n,k) for k in [1,..,n+1]]\n",
    "    ends = time.time()\n",
    "    time_list.append(end -srt)\n",
    "    L.append(temp)\n",
    "end = time.time()"
   ]
  },
  {
   "cell_type": "code",
   "execution_count": 5,
   "metadata": {},
   "outputs": [
    {
     "name": "stdout",
     "output_type": "stream",
     "text": [
      "the time taen to compute the Stirling number of 2nd kind for all the listed numbers is: 3.876887798309326\n"
     ]
    }
   ],
   "source": [
    "print(f\"the time taen to compute the Stirling number of 2nd kind for all the listed numbers is:\", end - strt)"
   ]
  },
  {
   "cell_type": "code",
   "execution_count": 6,
   "metadata": {},
   "outputs": [
    {
     "data": {
      "text/html": [
       "<div class=\"notruncate\">\n",
       "<table  class=\"table_form\">\n",
       "<tbody>\n",
       "<tr class =\"row-a\">\n",
       "<td><script type=\"math/tex\">1</script></td>\n",
       "<td><script type=\"math/tex\">0</script></td>\n",
       "</tr>\n",
       "<tr class =\"row-b\">\n",
       "<td><script type=\"math/tex\">1</script></td>\n",
       "<td><script type=\"math/tex\">1</script></td>\n",
       "<td><script type=\"math/tex\">0</script></td>\n",
       "</tr>\n",
       "<tr class =\"row-a\">\n",
       "<td><script type=\"math/tex\">1</script></td>\n",
       "<td><script type=\"math/tex\">3</script></td>\n",
       "<td><script type=\"math/tex\">1</script></td>\n",
       "<td><script type=\"math/tex\">0</script></td>\n",
       "</tr>\n",
       "<tr class =\"row-b\">\n",
       "<td><script type=\"math/tex\">1</script></td>\n",
       "<td><script type=\"math/tex\">7</script></td>\n",
       "<td><script type=\"math/tex\">6</script></td>\n",
       "<td><script type=\"math/tex\">1</script></td>\n",
       "<td><script type=\"math/tex\">0</script></td>\n",
       "</tr>\n",
       "<tr class =\"row-a\">\n",
       "<td><script type=\"math/tex\">1</script></td>\n",
       "<td><script type=\"math/tex\">15</script></td>\n",
       "<td><script type=\"math/tex\">25</script></td>\n",
       "<td><script type=\"math/tex\">10</script></td>\n",
       "<td><script type=\"math/tex\">1</script></td>\n",
       "<td><script type=\"math/tex\">0</script></td>\n",
       "</tr>\n",
       "<tr class =\"row-b\">\n",
       "<td><script type=\"math/tex\">1</script></td>\n",
       "<td><script type=\"math/tex\">31</script></td>\n",
       "<td><script type=\"math/tex\">90</script></td>\n",
       "<td><script type=\"math/tex\">65</script></td>\n",
       "<td><script type=\"math/tex\">15</script></td>\n",
       "<td><script type=\"math/tex\">1</script></td>\n",
       "<td><script type=\"math/tex\">0</script></td>\n",
       "</tr>\n",
       "<tr class =\"row-a\">\n",
       "<td><script type=\"math/tex\">1</script></td>\n",
       "<td><script type=\"math/tex\">63</script></td>\n",
       "<td><script type=\"math/tex\">301</script></td>\n",
       "<td><script type=\"math/tex\">350</script></td>\n",
       "<td><script type=\"math/tex\">140</script></td>\n",
       "<td><script type=\"math/tex\">21</script></td>\n",
       "<td><script type=\"math/tex\">1</script></td>\n",
       "<td><script type=\"math/tex\">0</script></td>\n",
       "</tr>\n",
       "<tr class =\"row-b\">\n",
       "<td><script type=\"math/tex\">1</script></td>\n",
       "<td><script type=\"math/tex\">127</script></td>\n",
       "<td><script type=\"math/tex\">966</script></td>\n",
       "<td><script type=\"math/tex\">1701</script></td>\n",
       "<td><script type=\"math/tex\">1050</script></td>\n",
       "<td><script type=\"math/tex\">266</script></td>\n",
       "<td><script type=\"math/tex\">28</script></td>\n",
       "<td><script type=\"math/tex\">1</script></td>\n",
       "<td><script type=\"math/tex\">0</script></td>\n",
       "</tr>\n",
       "<tr class =\"row-a\">\n",
       "<td><script type=\"math/tex\">1</script></td>\n",
       "<td><script type=\"math/tex\">255</script></td>\n",
       "<td><script type=\"math/tex\">3025</script></td>\n",
       "<td><script type=\"math/tex\">7770</script></td>\n",
       "<td><script type=\"math/tex\">6951</script></td>\n",
       "<td><script type=\"math/tex\">2646</script></td>\n",
       "<td><script type=\"math/tex\">462</script></td>\n",
       "<td><script type=\"math/tex\">36</script></td>\n",
       "<td><script type=\"math/tex\">1</script></td>\n",
       "<td><script type=\"math/tex\">0</script></td>\n",
       "</tr>\n",
       "<tr class =\"row-b\">\n",
       "<td><script type=\"math/tex\">1</script></td>\n",
       "<td><script type=\"math/tex\">511</script></td>\n",
       "<td><script type=\"math/tex\">9330</script></td>\n",
       "<td><script type=\"math/tex\">34105</script></td>\n",
       "<td><script type=\"math/tex\">42525</script></td>\n",
       "<td><script type=\"math/tex\">22827</script></td>\n",
       "<td><script type=\"math/tex\">5880</script></td>\n",
       "<td><script type=\"math/tex\">750</script></td>\n",
       "<td><script type=\"math/tex\">45</script></td>\n",
       "<td><script type=\"math/tex\">1</script></td>\n",
       "<td><script type=\"math/tex\">0</script></td>\n",
       "</tr>\n",
       "<tr class =\"row-a\">\n",
       "<td><script type=\"math/tex\">1</script></td>\n",
       "<td><script type=\"math/tex\">1023</script></td>\n",
       "<td><script type=\"math/tex\">28501</script></td>\n",
       "<td><script type=\"math/tex\">145750</script></td>\n",
       "<td><script type=\"math/tex\">246730</script></td>\n",
       "<td><script type=\"math/tex\">179487</script></td>\n",
       "<td><script type=\"math/tex\">63987</script></td>\n",
       "<td><script type=\"math/tex\">11880</script></td>\n",
       "<td><script type=\"math/tex\">1155</script></td>\n",
       "<td><script type=\"math/tex\">55</script></td>\n",
       "<td><script type=\"math/tex\">1</script></td>\n",
       "<td><script type=\"math/tex\">0</script></td>\n",
       "</tr>\n",
       "<tr class =\"row-b\">\n",
       "<td><script type=\"math/tex\">1</script></td>\n",
       "<td><script type=\"math/tex\">2047</script></td>\n",
       "<td><script type=\"math/tex\">86526</script></td>\n",
       "<td><script type=\"math/tex\">611501</script></td>\n",
       "<td><script type=\"math/tex\">1379400</script></td>\n",
       "<td><script type=\"math/tex\">1323652</script></td>\n",
       "<td><script type=\"math/tex\">627396</script></td>\n",
       "<td><script type=\"math/tex\">159027</script></td>\n",
       "<td><script type=\"math/tex\">22275</script></td>\n",
       "<td><script type=\"math/tex\">1705</script></td>\n",
       "<td><script type=\"math/tex\">66</script></td>\n",
       "<td><script type=\"math/tex\">1</script></td>\n",
       "<td><script type=\"math/tex\">0</script></td>\n",
       "</tr>\n",
       "<tr class =\"row-a\">\n",
       "<td><script type=\"math/tex\">1</script></td>\n",
       "<td><script type=\"math/tex\">4095</script></td>\n",
       "<td><script type=\"math/tex\">261625</script></td>\n",
       "<td><script type=\"math/tex\">2532530</script></td>\n",
       "<td><script type=\"math/tex\">7508501</script></td>\n",
       "<td><script type=\"math/tex\">9321312</script></td>\n",
       "<td><script type=\"math/tex\">5715424</script></td>\n",
       "<td><script type=\"math/tex\">1899612</script></td>\n",
       "<td><script type=\"math/tex\">359502</script></td>\n",
       "<td><script type=\"math/tex\">39325</script></td>\n",
       "<td><script type=\"math/tex\">2431</script></td>\n",
       "<td><script type=\"math/tex\">78</script></td>\n",
       "<td><script type=\"math/tex\">1</script></td>\n",
       "<td><script type=\"math/tex\">0</script></td>\n",
       "</tr>\n",
       "<tr class =\"row-b\">\n",
       "<td><script type=\"math/tex\">1</script></td>\n",
       "<td><script type=\"math/tex\">8191</script></td>\n",
       "<td><script type=\"math/tex\">788970</script></td>\n",
       "<td><script type=\"math/tex\">10391745</script></td>\n",
       "<td><script type=\"math/tex\">40075035</script></td>\n",
       "<td><script type=\"math/tex\">63436373</script></td>\n",
       "<td><script type=\"math/tex\">49329280</script></td>\n",
       "<td><script type=\"math/tex\">20912320</script></td>\n",
       "<td><script type=\"math/tex\">5135130</script></td>\n",
       "<td><script type=\"math/tex\">752752</script></td>\n",
       "<td><script type=\"math/tex\">66066</script></td>\n",
       "<td><script type=\"math/tex\">3367</script></td>\n",
       "<td><script type=\"math/tex\">91</script></td>\n",
       "<td><script type=\"math/tex\">1</script></td>\n",
       "<td><script type=\"math/tex\">0</script></td>\n",
       "</tr>\n",
       "<tr class =\"row-a\">\n",
       "<td><script type=\"math/tex\">1</script></td>\n",
       "<td><script type=\"math/tex\">16383</script></td>\n",
       "<td><script type=\"math/tex\">2375101</script></td>\n",
       "<td><script type=\"math/tex\">42355950</script></td>\n",
       "<td><script type=\"math/tex\">210766920</script></td>\n",
       "<td><script type=\"math/tex\">420693273</script></td>\n",
       "<td><script type=\"math/tex\">408741333</script></td>\n",
       "<td><script type=\"math/tex\">216627840</script></td>\n",
       "<td><script type=\"math/tex\">67128490</script></td>\n",
       "<td><script type=\"math/tex\">12662650</script></td>\n",
       "<td><script type=\"math/tex\">1479478</script></td>\n",
       "<td><script type=\"math/tex\">106470</script></td>\n",
       "<td><script type=\"math/tex\">4550</script></td>\n",
       "<td><script type=\"math/tex\">105</script></td>\n",
       "<td><script type=\"math/tex\">1</script></td>\n",
       "<td><script type=\"math/tex\">0</script></td>\n",
       "</tr>\n",
       "<tr class =\"row-b\">\n",
       "<td><script type=\"math/tex\">1</script></td>\n",
       "<td><script type=\"math/tex\">32767</script></td>\n",
       "<td><script type=\"math/tex\">7141686</script></td>\n",
       "<td><script type=\"math/tex\">171798901</script></td>\n",
       "<td><script type=\"math/tex\">1096190550</script></td>\n",
       "<td><script type=\"math/tex\">2734926558</script></td>\n",
       "<td><script type=\"math/tex\">3281882604</script></td>\n",
       "<td><script type=\"math/tex\">2141764053</script></td>\n",
       "<td><script type=\"math/tex\">820784250</script></td>\n",
       "<td><script type=\"math/tex\">193754990</script></td>\n",
       "<td><script type=\"math/tex\">28936908</script></td>\n",
       "<td><script type=\"math/tex\">2757118</script></td>\n",
       "<td><script type=\"math/tex\">165620</script></td>\n",
       "<td><script type=\"math/tex\">6020</script></td>\n",
       "<td><script type=\"math/tex\">120</script></td>\n",
       "<td><script type=\"math/tex\">1</script></td>\n",
       "<td><script type=\"math/tex\">0</script></td>\n",
       "</tr>\n",
       "<tr class =\"row-a\">\n",
       "<td><script type=\"math/tex\">1</script></td>\n",
       "<td><script type=\"math/tex\">65535</script></td>\n",
       "<td><script type=\"math/tex\">21457825</script></td>\n",
       "<td><script type=\"math/tex\">694337290</script></td>\n",
       "<td><script type=\"math/tex\">5652751651</script></td>\n",
       "<td><script type=\"math/tex\">17505749898</script></td>\n",
       "<td><script type=\"math/tex\">25708104786</script></td>\n",
       "<td><script type=\"math/tex\">20415995028</script></td>\n",
       "<td><script type=\"math/tex\">9528822303</script></td>\n",
       "<td><script type=\"math/tex\">2758334150</script></td>\n",
       "<td><script type=\"math/tex\">512060978</script></td>\n",
       "<td><script type=\"math/tex\">62022324</script></td>\n",
       "<td><script type=\"math/tex\">4910178</script></td>\n",
       "<td><script type=\"math/tex\">249900</script></td>\n",
       "<td><script type=\"math/tex\">7820</script></td>\n",
       "<td><script type=\"math/tex\">136</script></td>\n",
       "<td><script type=\"math/tex\">1</script></td>\n",
       "<td><script type=\"math/tex\">0</script></td>\n",
       "</tr>\n",
       "<tr class =\"row-b\">\n",
       "<td><script type=\"math/tex\">1</script></td>\n",
       "<td><script type=\"math/tex\">131071</script></td>\n",
       "<td><script type=\"math/tex\">64439010</script></td>\n",
       "<td><script type=\"math/tex\">2798806985</script></td>\n",
       "<td><script type=\"math/tex\">28958095545</script></td>\n",
       "<td><script type=\"math/tex\">110687251039</script></td>\n",
       "<td><script type=\"math/tex\">197462483400</script></td>\n",
       "<td><script type=\"math/tex\">189036065010</script></td>\n",
       "<td><script type=\"math/tex\">106175395755</script></td>\n",
       "<td><script type=\"math/tex\">37112163803</script></td>\n",
       "<td><script type=\"math/tex\">8391004908</script></td>\n",
       "<td><script type=\"math/tex\">1256328866</script></td>\n",
       "<td><script type=\"math/tex\">125854638</script></td>\n",
       "<td><script type=\"math/tex\">8408778</script></td>\n",
       "<td><script type=\"math/tex\">367200</script></td>\n",
       "<td><script type=\"math/tex\">9996</script></td>\n",
       "<td><script type=\"math/tex\">153</script></td>\n",
       "<td><script type=\"math/tex\">1</script></td>\n",
       "<td><script type=\"math/tex\">0</script></td>\n",
       "</tr>\n",
       "<tr class =\"row-a\">\n",
       "<td><script type=\"math/tex\">1</script></td>\n",
       "<td><script type=\"math/tex\">262143</script></td>\n",
       "<td><script type=\"math/tex\">193448101</script></td>\n",
       "<td><script type=\"math/tex\">11259666950</script></td>\n",
       "<td><script type=\"math/tex\">147589284710</script></td>\n",
       "<td><script type=\"math/tex\">693081601779</script></td>\n",
       "<td><script type=\"math/tex\">1492924634839</script></td>\n",
       "<td><script type=\"math/tex\">1709751003480</script></td>\n",
       "<td><script type=\"math/tex\">1144614626805</script></td>\n",
       "<td><script type=\"math/tex\">477297033785</script></td>\n",
       "<td><script type=\"math/tex\">129413217791</script></td>\n",
       "<td><script type=\"math/tex\">23466951300</script></td>\n",
       "<td><script type=\"math/tex\">2892439160</script></td>\n",
       "<td><script type=\"math/tex\">243577530</script></td>\n",
       "<td><script type=\"math/tex\">13916778</script></td>\n",
       "<td><script type=\"math/tex\">527136</script></td>\n",
       "<td><script type=\"math/tex\">12597</script></td>\n",
       "<td><script type=\"math/tex\">171</script></td>\n",
       "<td><script type=\"math/tex\">1</script></td>\n",
       "<td><script type=\"math/tex\">0</script></td>\n",
       "</tr>\n",
       "<tr class =\"row-b\">\n",
       "<td><script type=\"math/tex\">1</script></td>\n",
       "<td><script type=\"math/tex\">524287</script></td>\n",
       "<td><script type=\"math/tex\">580606446</script></td>\n",
       "<td><script type=\"math/tex\">45232115901</script></td>\n",
       "<td><script type=\"math/tex\">749206090500</script></td>\n",
       "<td><script type=\"math/tex\">4306078895384</script></td>\n",
       "<td><script type=\"math/tex\">11143554045652</script></td>\n",
       "<td><script type=\"math/tex\">15170932662679</script></td>\n",
       "<td><script type=\"math/tex\">12011282644725</script></td>\n",
       "<td><script type=\"math/tex\">5917584964655</script></td>\n",
       "<td><script type=\"math/tex\">1900842429486</script></td>\n",
       "<td><script type=\"math/tex\">411016633391</script></td>\n",
       "<td><script type=\"math/tex\">61068660380</script></td>\n",
       "<td><script type=\"math/tex\">6302524580</script></td>\n",
       "<td><script type=\"math/tex\">452329200</script></td>\n",
       "<td><script type=\"math/tex\">22350954</script></td>\n",
       "<td><script type=\"math/tex\">741285</script></td>\n",
       "<td><script type=\"math/tex\">15675</script></td>\n",
       "<td><script type=\"math/tex\">190</script></td>\n",
       "<td><script type=\"math/tex\">1</script></td>\n",
       "<td><script type=\"math/tex\">0</script></td>\n",
       "</tr>\n",
       "</tbody>\n",
       "</table>\n",
       "</div>"
      ],
      "text/plain": [
       "  1   0\n",
       "  1   1\n",
       "  1   3\n",
       "  1   7\n",
       "  1   15\n",
       "  1   31\n",
       "  1   63\n",
       "  1   127\n",
       "  1   255\n",
       "  1   511\n",
       "  1   1023\n",
       "  1   2047\n",
       "  1   4095\n",
       "  1   8191\n",
       "  1   16383\n",
       "  1   32767\n",
       "  1   65535\n",
       "  1   131071\n",
       "  1   262143\n",
       "  1   524287"
      ]
     },
     "execution_count": 6,
     "metadata": {},
     "output_type": "execute_result"
    }
   ],
   "source": [
    "table(L)"
   ]
  },
  {
   "cell_type": "code",
   "execution_count": 9,
   "metadata": {},
   "outputs": [],
   "source": [
    "def stirling_num_2nd_kind_2nd_rf(n,k):\n",
    "    if (n==0 & k ==0):\n",
    "        return 1\n",
    "    if (n<k):\n",
    "        return 0\n",
    "    else:\n",
    "        if (k==1 or k==n):\n",
    "            return 1\n",
    "        else:\n",
    "            s = 0\n",
    "            for i in [1,..,n+1]:\n",
    "                s += binomial(n-1,k-i)*stirling_num_2nd_kind_2nd_rf(n-i,k-1)\n",
    "        return s\n"
   ]
  },
  {
   "cell_type": "code",
   "execution_count": 10,
   "metadata": {},
   "outputs": [],
   "source": [
    "nlist = [1,2,..,20]\n",
    "L1 =[]\n",
    "strt = time.time()\n",
    "time_list1 = []\n",
    "for n in nlist:\n",
    "    srt = time.time()\n",
    "    temp = [stirling_num_2nd_kind_2nd_rf(n,k) for k in [1,..,n+1]]\n",
    "    end = time.time()\n",
    "    time_list1.append(end -srt)\n",
    "    L1.append(temp)\n",
    "end = time.time()"
   ]
  },
  {
   "cell_type": "code",
   "execution_count": 11,
   "metadata": {},
   "outputs": [
    {
     "name": "stdout",
     "output_type": "stream",
     "text": [
      "The time taken for all the values in the list by the second recurrence relation of Striling number of 2nd kind is 338.33112144470215\n"
     ]
    }
   ],
   "source": [
    "print(f\"The time taken for all the values in the list by the second recurrence relation of Striling number of 2nd kind is\",end - strt)"
   ]
  },
  {
   "cell_type": "code",
   "execution_count": 12,
   "metadata": {},
   "outputs": [
    {
     "name": "stdout",
     "output_type": "stream",
     "text": [
      "The time taken by to compute the Stirling number of 2nd kind for each n value are [8.296966552734375e-05, 4.482269287109375e-05, 0.03207826614379883, 0.0011954307556152344, 0.00404047966003418, 0.014828920364379883, 0.0315699577331543, 0.041390419006347656, 0.048743486404418945, 0.10489439964294434, 0.2121284008026123, 0.4312317371368408, 0.8512051105499268, 1.7430267333984375, 3.994964599609375, 8.160648822784424, 15.901487588882446, 35.11249780654907, 151.0731475353241, 120.57140564918518]\n"
     ]
    }
   ],
   "source": [
    "print(f\"The time taken by to compute the Stirling number of 2nd kind for each n value are\", time_list1)"
   ]
  },
  {
   "cell_type": "code",
   "execution_count": 13,
   "metadata": {},
   "outputs": [],
   "source": [
    "def stirling_number(n,k):\n",
    "    s = 0\n",
    "    for j in [0,1,..,k]:\n",
    "        s += (-1)^j*binomial(k,j)*(k-j)^n\n",
    "    return s/factorial(k)"
   ]
  },
  {
   "cell_type": "code",
   "execution_count": 14,
   "metadata": {},
   "outputs": [],
   "source": [
    "nl = [1,..,20]\n",
    "L=[]\n",
    "strt = time.time()\n",
    "time_list2 = []\n",
    "for n in nl:\n",
    "    srt = time.time()\n",
    "    temp = [stirling_number(n,k) for k in [1,..,n+1]]\n",
    "    end = time.time()\n",
    "    time_list2.append(end - srt)\n",
    "    L.append(temp)\n",
    "end = time.time()"
   ]
  },
  {
   "cell_type": "code",
   "execution_count": 15,
   "metadata": {},
   "outputs": [
    {
     "name": "stdout",
     "output_type": "stream",
     "text": [
      "The time taken for all the values in the list of stirling number of 2nd kind is 0.17253708839416504\n"
     ]
    }
   ],
   "source": [
    "print(f\"The time taken for all the values in the list of stirling number of 2nd kind is\", end - strt)"
   ]
  },
  {
   "cell_type": "code",
   "execution_count": 16,
   "metadata": {},
   "outputs": [
    {
     "name": "stdout",
     "output_type": "stream",
     "text": [
      "The time taken for each n value is given by [0.002370595932006836, 0.001428842544555664, 0.0012328624725341797, 0.0019073486328125, 0.0018775463104248047, 0.0024187564849853516, 0.002962827682495117, 0.0054781436920166016, 0.0045545101165771484, 0.0053217411041259766, 0.007577180862426758, 0.008988618850708008, 0.012285947799682617, 0.011407136917114258, 0.010712146759033203, 0.012696027755737305, 0.012700796127319336, 0.013091087341308594, 0.01423192024230957, 0.03876519203186035]\n"
     ]
    }
   ],
   "source": [
    "print(f\"The time taken for each n value is given by\",time_list2)"
   ]
  },
  {
   "cell_type": "code",
   "execution_count": 18,
   "metadata": {},
   "outputs": [
    {
     "data": {
      "image/png": "[encoded data removed]",
      "text/plain": [
       "<Figure size 432x288 with 1 Axes>"
      ]
     },
     "metadata": {
      "needs_background": "light"
     },
     "output_type": "display_data"
    }
   ],
   "source": [
    "plt.plot(nlist,time_list,label = \"Using 1st recurrence relation\" )\n",
    "plt.plot(nlist,time_list1,label =\"Using 2nd recurrence relation\")\n",
    "plt.plot(nlist,time_list2,label =\"Using Direct formula\")\n",
    "plt.xlabel(\"nvalue\")\n",
    "plt.ylabel(\"Time taken by formulae\")\n",
    "plt.legend(bbox_to_anchor = (1.04,1));"
   ]
  },
  {
   "cell_type": "code",
   "execution_count": null,
   "metadata": {},
   "outputs": [],
   "source": []
  },
  {
   "cell_type": "code",
   "execution_count": null,
   "metadata": {},
   "outputs": [],
   "source": []
  }
 ],
 "metadata": {
  "kernelspec": {
   "display_name": "SageMath 9.3",
   "language": "sage",
   "name": "sagemath"
  }
 },
 "nbformat": 4,
 "nbformat_minor": 4
}
