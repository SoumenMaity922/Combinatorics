{
 "cells": [
  {
   "cell_type": "markdown",
   "metadata": {},
   "source": [
    "**Pigeon-Hole Principle:** Let $n$ and $k$ be positive integers and let $n > k$. Suppose, we have to place the $n$ identical balls into $k$ identical boxes. Then, there will be at least one box in which we place at least two balls.\n",
    "\n",
    "**Problem:** There is an element in the sequence $7,77,777,\\cdots$ that is divisible by $2003$. \n",
    "\n",
    "In theory class, we have seen that if we consider first $2003$ elements of this sequence, we are able to show that there exist an element within these $2003$ many elements, which is divisible by $2003$.\n",
    "\n",
    "Here,computationally we prove this result and fidn that number which is divisible by $2003$. Along with this, we also want to investigate the time to find the element."
   ]
  },
  {
   "cell_type": "code",
   "execution_count": 3,
   "metadata": {},
   "outputs": [],
   "source": [
    "import time\n",
    "import itertools as itr\n",
    "import matplotlib.pyplot as plt"
   ]
  },
  {
   "cell_type": "code",
   "execution_count": 4,
   "metadata": {},
   "outputs": [
    {
     "name": "stdout",
     "output_type": "stream",
     "text": [
      "The position in the sequence of the divisible number is 1000 \n",
      " The number is 77777777777777777777777777777777777777777777777777777777777777777777777777777777777777777777777777777777777777777777777777777777777777777777777777777777777777777777777777777777777777777777777777777777777777777777777777777777777777777777777777777777777777777777777777777777777777777777777777777777777777777777777777777777777777777777777777777777777777777777777777777777777777777777777777777777777777777777777777777777777777777777777777777777777777777777777777777777777777777777777777777777777777777777777777777777777777777777777777777777777777777777777777777777777777777777777777777777777777777777777777777777777777777777777777777777777777777777777777777777777777777777777777777777777777777777777777777777777777777777777777777777777777777777777777777777777777777777777777777777777777777777777777777777777777777777777777777777777777777777777777777777777777777777777777777777777777777777777777777777777777777777777777777777777777777777777777777777777777777777777777777777777777777777777777777777777777777\n",
      "The time taken to find the number is 0.004896402359008789\n"
     ]
    }
   ],
   "source": [
    "n = 2003\n",
    "seq = [int('7'*i) for i in range(1,n+1)]\n",
    "strt = time.time()\n",
    "for i in range(0,len(seq)+1):\n",
    "    if (seq[i]%n) ==0:\n",
    "        print(f\"The position in the sequence of the divisible number is\",i,\"\\n\",\"The number is\", seq[i])\n",
    "        break\n",
    "end = time.time()\n",
    "print(f\"The time taken to find the number is\",end - strt)\n",
    "    "
   ]
  },
  {
   "cell_type": "markdown",
   "metadata": {},
   "source": [
    "**Stirling Number of 2nd kind:** Suppose we have $n$ many not identical (different) objects and $k$ many identical boxes with $n \\ge k$. Since the objects are different, so we can lebel them. We want to partition the set $S[n] = \\{1,2,\\cdots,n\\}$ into $k$ many no-empty subsets. The number of partitions is denoted by $S(n,k)$, called Stirling number of 2nd kind.\n",
    "\n",
    "The objects are not identical, because if they are identical, then it might be possible that one object has putted in two different boxes, which is not possible. Although it doesn't matter that which object has came first in any one of the boxes, so the order of the elements doesn't matter but their identifications are matter here!!!!!!. So, it is necessary to take the balls or the objects are not identical.\n",
    "\n",
    "**Some Properties of Strling number of 2nd kind :**\n",
    "\n",
    "1. S(0,0,) = 1\n",
    "\n",
    "2. S(n,k)=0, if $\\text{ if n < k }$\n",
    "\n",
    "3. S(n,1) = S(n,n) = 1\n",
    "\n",
    "4. S(n,n-1) = $n \\choose 2$\n",
    "\n",
    "The recurrence relations we have found in our theoritical class is given by: \n",
    "\n",
    "* The first recurrence relation is $$S(nk) = S(n-1,k-1) +  kS(n-1,k), \\forall n < k$$\n",
    "\n",
    "* The second recurrence relation is $$S(n+1,k) = \\sum_{i =0}^{n}{n \\choose k}S(n-i,k-1)$$.\n",
    "\n",
    "Also, we have found an easiest way using `Inclusion-Exclusion Principle` to count the Stirling number of 2nd kind without using any recurrence relation and the formula is given by: $$S(n,k) = \\frac{1}{k!}\\sum_{j = 0}^{k}(-1)^j{k \\choose j}(k-j)^n$$."
   ]
  },
  {
   "cell_type": "code",
   "execution_count": 5,
   "metadata": {},
   "outputs": [],
   "source": [
    "def stirling_num_2nd_kind_1st_rf(n,k):\n",
    "    if (n==0 & k==0):\n",
    "        return 1\n",
    "    if (n<k):\n",
    "        return 0\n",
    "    else:\n",
    "        s = 0\n",
    "        if (k ==1 or k==n):\n",
    "            s = s +1\n",
    "        else:\n",
    "            s += stirling_num_2nd_kind_1st_rf(n-1,k-1) + k*stirling_num_2nd_kind_1st_rf(n-1,k)\n",
    "    return s"
   ]
  },
  {
   "cell_type": "code",
   "execution_count": null,
   "metadata": {},
   "outputs": [],
   "source": [
    "nlist = [1,2,..,20]\n",
    "L = []\n",
    "strt = time.time()\n",
    "time_list = []\n",
    "for n in nlist:\n",
    "    srt =time.time()\n",
    "    temp = [stirling_num_2nd_kind_1st_rf(n,k) for k in [1,..,n+1]]\n",
    "    ends = time.time()\n",
    "    time_list.append(end -srt)\n",
    "    L.append(temp)\n",
    "end = time.time()"
   ]
  },
  {
   "cell_type": "code",
   "execution_count": null,
   "metadata": {},
   "outputs": [],
   "source": [
    "print(f\"the time taen to compute the Stirling number of 2nd kind for all the listed numbers is:\", end - strt)"
   ]
  },
  {
   "cell_type": "code",
   "execution_count": null,
   "metadata": {},
   "outputs": [],
   "source": [
    "table(L)"
   ]
  },
  {
   "cell_type": "code",
   "execution_count": 6,
   "metadata": {},
   "outputs": [],
   "source": [
    "def stirling_num_2nd_kind_2nd_rf(n,k):\n",
    "    if (n==0 & k ==0):\n",
    "        return 1\n",
    "    if (n<k):\n",
    "        return 0\n",
    "    else:\n",
    "        if (k==1 or k==n):\n",
    "            return 1\n",
    "        else:\n",
    "            s = 0\n",
    "            for i in [1,..,n+1]:\n",
    "                s += binomial(n-1,m-i)*stirling_num_2nd_kind_2nd_rf(n-i,k-1)\n",
    "        return s\n"
   ]
  },
  {
   "cell_type": "code",
   "execution_count": null,
   "metadata": {},
   "outputs": [],
   "source": [
    "nlist = [1,2,..,20]\n",
    "L1 =[]\n",
    "strt = time.time()\n",
    "time_list1 = []\n",
    "for n in nlist:\n",
    "    srt = time.time()\n",
    "    temp = [stirling_num_2nd_kind_2nd_rf(n,k) for k in [1,..,n+1]]\n",
    "    end = time.time()\n",
    "    time_list1.append(end -srt)\n",
    "    L1.append(temp)\n",
    "end = time.time()"
   ]
  },
  {
   "cell_type": "code",
   "execution_count": null,
   "metadata": {},
   "outputs": [],
   "source": [
    "print(f\"The time taken for all the values in the list by the second recurrence relation of Striling number of 2nd kind is\",end - strt)"
   ]
  },
  {
   "cell_type": "code",
   "execution_count": null,
   "metadata": {},
   "outputs": [],
   "source": [
    "print(f\"The time taken by to compute the Stirling number of 2nd kind for each n value are\", time_list1)"
   ]
  },
  {
   "cell_type": "code",
   "execution_count": 7,
   "metadata": {},
   "outputs": [],
   "source": [
    "def stirling_number(n,k):\n",
    "    s = 0\n",
    "    for j in [0,1,..,k]:\n",
    "        s += (-1)^j*binomial(k,j)*(k-j)^n\n",
    "    return s/factorial(k)"
   ]
  },
  {
   "cell_type": "code",
   "execution_count": null,
   "metadata": {},
   "outputs": [],
   "source": [
    "nl = [1,..,20]\n",
    "L=[]\n",
    "strt = time.time()\n",
    "time_list2 = []\n",
    "for n in nl:\n",
    "    srt = time.time()\n",
    "    temp = [stirling_number(n,k) for k in [1,..,n+1]]\n",
    "    end = time.time()\n",
    "    time_list2.append(end - srt)\n",
    "    L.append(temp)\n",
    "end = time.time()"
   ]
  },
  {
   "cell_type": "code",
   "execution_count": null,
   "metadata": {},
   "outputs": [],
   "source": [
    "print(f\"The time taken for all the values in the list of stirling number of 2nd kind is\", end - strt)"
   ]
  },
  {
   "cell_type": "code",
   "execution_count": null,
   "metadata": {},
   "outputs": [],
   "source": [
    "print(f\"The time taken for each n value is given by\",time_list2)"
   ]
  },
  {
   "cell_type": "code",
   "execution_count": null,
   "metadata": {},
   "outputs": [],
   "source": [
    "plt.plot(nlist,time_list,label = \"Using 1st recurrence relation\" )\n",
    "plt.plot(nlist,time_list1,label =\"Using 2nd recurrence relation\")\n",
    "plt.plot(nlist,time_list2,label =\"Using Direct formula\")\n",
    "plt.xlabel(\"nvalue\")\n",
    "plt.ylabel(\"Time taken by formulae\")\n",
    "plt.legend(bbox_to_anchor = (1.04,1))"
   ]
  },
  {
   "cell_type": "code",
   "execution_count": null,
   "metadata": {},
   "outputs": [],
   "source": []
  },
  {
   "cell_type": "code",
   "execution_count": null,
   "metadata": {},
   "outputs": [],
   "source": []
  }
 ],
 "metadata": {
  "kernelspec": {
   "display_name": "SageMath 9.3",
   "language": "sage",
   "name": "sagemath"
  },
  "language_info": {
   "codemirror_mode": {
    "name": "ipython",
    "version": 3
   },
   "file_extension": ".py",
   "mimetype": "text/x-python",
   "name": "python",
   "nbconvert_exporter": "python",
   "pygments_lexer": "ipython3",
   "version": "3.7.10"
  }
 },
 "nbformat": 4,
 "nbformat_minor": 4
}
