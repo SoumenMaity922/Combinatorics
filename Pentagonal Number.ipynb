{
 "cells": [
  {
   "cell_type": "markdown",
   "metadata": {},
   "source": [
    "Euler's technique  to compute $p(n)$ in an efficient way:\n",
    "\n",
    "The Euler formula is $$\\left(1 + x+x^2 + x^3 + \\cdots\\right)\\left( 1+ x^2 + x^4 + \\cdots\\right)\\left(1 + x^3 + x^6+\\cdots\\right) = \\sum_{n=1}^{\\infty}p_{n}x^{n} \\\\ \\implies \\prod_{m=1}^{\\infty}\\left(\\sum_{k=0}^{\\infty}x^{mk}\\right)= \\sum_{n=1}^{\\infty}p_{n}x^n\\\\ \\implies \\frac{1}{(1 -x)(1-x^2)(1-x^3)\\cdots} = \\sum_{n=1}^{\\infty}p_{n}x^n$$.\n",
    "\n",
    "\n",
    "Now, $(1-x)(1-x^2)(1-x^3)\\cdots = 1 - x - x^2 +x^5 + x^7 - x^{12} - x^{15} + x^{22} + x^{26} -x^{35} - x^{40} + \\cdots$.\n",
    "\n",
    "Therefore, from the above relation, we get $(1- (x+x^2) + (x^5+x^7) - (x^{12} + x^{15})+\\cdots)\\left(1 + p_{1}x + p_{2}x^2 + p_{3}x^3 + \\cdots\\right)$."
   ]
  },
  {
   "cell_type": "markdown",
   "metadata": {},
   "source": [
    "Notice that, $(1 - (x+x^2) + (x^5+x^7) - (x^{12} + x^{15}) + \\cdots$ = $1 + \\sum_{k=1}^{\\infty}(-1)^{k}\\left(x^{k\\frac{3k+1}{2}} + x^{k\\frac{3k-1}{2}}\\right)$"
   ]
  },
  {
   "cell_type": "markdown",
   "metadata": {},
   "source": [
    "Hence, the coefficient of $x^{n}$ is zero in this product and so, we get $p_{n} - P_{n-1} - p_{n-2} + p_{n-5} + p_{n-7} -p_{n-12} - p_{n-15} +\\cdots =0\\\\ p_{n} = p_{n-1} + p_{n-2} - p_{n-5} -p_{n-7} +\\cdots\\\\$\n",
    "$p_{n} = \\sum_{k=1}^{n}\\left(p\\left(n-\\frac{k(3k-1)}{2}\\right) + p\\left(n - \\frac{k(3k+1)}{2}\\right)\\right)$.\n",
    "\n",
    "With this relation, we have $p_{0}=  0 \\text{ and } p_{k} = 0, \\forall k <0$."
   ]
  },
  {
   "cell_type": "code",
   "execution_count": 5,
   "metadata": {},
   "outputs": [],
   "source": [
    "import time"
   ]
  },
  {
   "cell_type": "code",
   "execution_count": 1,
   "metadata": {},
   "outputs": [],
   "source": [
    "### define a function to find the partition using the recursive relation\n",
    "\n",
    "def partition(n):\n",
    "    if n==0 or n==1:\n",
    "        return 1\n",
    "    else:\n",
    "        summand = 0\n",
    "        for k in range(1,n+1):\n",
    "            d1 = n - int((k*(3*k-1))/2)\n",
    "            d2 = n - int((k*(3*k +1))/2)\n",
    "            s = pow(-1,k+1)\n",
    "            summand += s*(partition(d1) + partition(d2))\n",
    "    return summand\n"
   ]
  },
  {
   "cell_type": "code",
   "execution_count": 2,
   "metadata": {},
   "outputs": [
    {
     "data": {
      "text/plain": [
       "15"
      ]
     },
     "execution_count": 2,
     "metadata": {},
     "output_type": "execute_result"
    }
   ],
   "source": [
    "partition(7)"
   ]
  },
  {
   "cell_type": "markdown",
   "metadata": {},
   "source": [
    "The idea behind this below code is taken from the paper titled \"The Pentagonal Number Theorem and All That\" by Dick Koch, August 26,2016."
   ]
  },
  {
   "cell_type": "code",
   "execution_count": 3,
   "metadata": {},
   "outputs": [],
   "source": [
    "def partition_euler(n):\n",
    "    N = n+1\n",
    "    P = [0]*N #number of series coefficients\n",
    "    P[0] = 1\n",
    "    P[1]=1\n",
    "    pinv = [0]*N # inverse of the p(n) series\n",
    "    k = 1\n",
    "    ind = (k*(3*k-1))//2\n",
    "    while ind <= N:\n",
    "        pinv[ind] = (-1)^k\n",
    "        ind = (k*(3*k+1))//2\n",
    "        if ind <= N:\n",
    "            pinv[ind] = (-1)^k\n",
    "        k +=1 \n",
    "        ind = k*(3*k-1)//2\n",
    "    for n in range(2,N):\n",
    "        P[n] = 0\n",
    "        for i in range(1,n):\n",
    "            P[n] -= P[n-i]*pinv[i]\n",
    "        P[n] -= pinv[n]\n",
    "        print(f\"The partition of the integer {n} is : {P[n]}\")\n",
    "    "
   ]
  },
  {
   "cell_type": "code",
   "execution_count": 6,
   "metadata": {},
   "outputs": [
    {
     "name": "stdout",
     "output_type": "stream",
     "text": [
      "The partition of the integer 2 is : 2\n",
      "The partition of the integer 3 is : 3\n",
      "The partition of the integer 4 is : 5\n",
      "The partition of the integer 5 is : 7\n",
      "The partition of the integer 6 is : 11\n",
      "The partition of the integer 7 is : 15\n",
      "The partition of the integer 8 is : 22\n",
      "The partition of the integer 9 is : 30\n",
      "The partition of the integer 10 is : 42\n",
      "The partition of the integer 11 is : 56\n",
      "The partition of the integer 12 is : 77\n",
      "The partition of the integer 13 is : 101\n",
      "The partition of the integer 14 is : 135\n",
      "The partition of the integer 15 is : 176\n",
      "The partition of the integer 16 is : 231\n",
      "The partition of the integer 17 is : 297\n",
      "The partition of the integer 18 is : 385\n",
      "The partition of the integer 19 is : 490\n",
      "The partition of the integer 20 is : 627\n",
      "The partition of the integer 21 is : 792\n",
      "The partition of the integer 22 is : 1002\n",
      "The partition of the integer 23 is : 1255\n",
      "The partition of the integer 24 is : 1575\n",
      "The partition of the integer 25 is : 1958\n",
      "The partition of the integer 26 is : 2436\n",
      "The partition of the integer 27 is : 3010\n",
      "The partition of the integer 28 is : 3718\n",
      "The partition of the integer 29 is : 4565\n",
      "The partition of the integer 30 is : 5604\n",
      "The partition of the integer 31 is : 6842\n",
      "The partition of the integer 32 is : 8349\n",
      "The partition of the integer 33 is : 10143\n",
      "The partition of the integer 34 is : 12310\n",
      "The partition of the integer 35 is : 14883\n",
      "The partition of the integer 36 is : 17977\n",
      "The partition of the integer 37 is : 21637\n",
      "The partition of the integer 38 is : 26015\n",
      "The partition of the integer 39 is : 31185\n",
      "The partition of the integer 40 is : 37338\n",
      "The partition of the integer 41 is : 44583\n",
      "The partition of the integer 42 is : 53174\n",
      "The partition of the integer 43 is : 63261\n",
      "The partition of the integer 44 is : 75175\n",
      "The partition of the integer 45 is : 89134\n",
      "The partition of the integer 46 is : 105558\n",
      "The partition of the integer 47 is : 124754\n",
      "The partition of the integer 48 is : 147273\n",
      "The partition of the integer 49 is : 173525\n",
      "The partition of the integer 50 is : 204226\n",
      "The partition of the integer 51 is : 239943\n",
      "The partition of the integer 52 is : 281589\n",
      "The partition of the integer 53 is : 329931\n",
      "The partition of the integer 54 is : 386155\n",
      "The partition of the integer 55 is : 451276\n",
      "The partition of the integer 56 is : 526823\n",
      "The partition of the integer 57 is : 614154\n",
      "The partition of the integer 58 is : 715220\n",
      "The partition of the integer 59 is : 831820\n",
      "The partition of the integer 60 is : 966467\n",
      "The partition of the integer 61 is : 1121505\n",
      "The partition of the integer 62 is : 1300156\n",
      "The partition of the integer 63 is : 1505499\n",
      "The partition of the integer 64 is : 1741630\n",
      "The partition of the integer 65 is : 2012558\n",
      "The partition of the integer 66 is : 2323520\n",
      "The partition of the integer 67 is : 2679689\n",
      "The partition of the integer 68 is : 3087735\n",
      "The partition of the integer 69 is : 3554345\n",
      "The partition of the integer 70 is : 4087968\n",
      "The partition of the integer 71 is : 4697205\n",
      "The partition of the integer 72 is : 5392783\n",
      "The partition of the integer 73 is : 6185689\n",
      "The partition of the integer 74 is : 7089500\n",
      "The partition of the integer 75 is : 8118264\n",
      "The partition of the integer 76 is : 9289091\n",
      "The partition of the integer 77 is : 10619863\n",
      "The partition of the integer 78 is : 12132164\n",
      "The partition of the integer 79 is : 13848650\n",
      "The partition of the integer 80 is : 15796476\n",
      "The partition of the integer 81 is : 18004327\n",
      "The partition of the integer 82 is : 20506255\n",
      "The partition of the integer 83 is : 23338469\n",
      "The partition of the integer 84 is : 26543660\n",
      "The partition of the integer 85 is : 30167357\n",
      "The partition of the integer 86 is : 34262962\n",
      "The partition of the integer 87 is : 38887673\n",
      "The partition of the integer 88 is : 44108109\n",
      "The partition of the integer 89 is : 49995925\n",
      "The partition of the integer 90 is : 56634173\n",
      "The partition of the integer 91 is : 64112359\n",
      "The partition of the integer 92 is : 72533807\n",
      "The partition of the integer 93 is : 82010177\n",
      "The partition of the integer 94 is : 92669720\n",
      "The partition of the integer 95 is : 104651419\n",
      "The partition of the integer 96 is : 118114304\n",
      "The partition of the integer 97 is : 133230930\n",
      "The partition of the integer 98 is : 150198136\n",
      "The partition of the integer 99 is : 169229875\n",
      "The partition of the integer 100 is : 190569292\n"
     ]
    }
   ],
   "source": [
    "start = time.time()\n",
    "partition_euler(100)\n",
    "end = time.time()"
   ]
  },
  {
   "cell_type": "code",
   "execution_count": 7,
   "metadata": {},
   "outputs": [
    {
     "name": "stdout",
     "output_type": "stream",
     "text": [
      "The time taken by the algorithm ot compute the number of partitions from 1 to 100 is 0.01598644256591797\n"
     ]
    }
   ],
   "source": [
    "print(f\"The time taken by the algorithm ot compute the number of partitions from 1 to 100 is\", end - start)"
   ]
  },
  {
   "cell_type": "code",
   "execution_count": null,
   "metadata": {},
   "outputs": [],
   "source": []
  }
 ],
 "metadata": {
  "kernelspec": {
   "display_name": "SageMath 9.3",
   "language": "sage",
   "name": "sagemath"
  },
  "language_info": {
   "codemirror_mode": {
    "name": "ipython",
    "version": 3
   },
   "file_extension": ".py",
   "mimetype": "text/x-python",
   "name": "python",
   "nbconvert_exporter": "python",
   "pygments_lexer": "ipython3",
   "version": "3.7.10"
  }
 },
 "nbformat": 4,
 "nbformat_minor": 4
}
