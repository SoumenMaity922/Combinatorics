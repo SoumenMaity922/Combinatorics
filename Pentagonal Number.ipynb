{
 "cells": [
  {
   "cell_type": "markdown",
   "metadata": {},
   "source": [
    "Euler's technique  to compute $p(n)$ in an efficient way:\n",
    "\n",
    "The Euler formula is $$\\left(1 + x+x^2 + x^3 + \\cdots\\right)\\left( 1+ x^2 + x^4 + \\cdots\\right)\\left(1 + x^3 + x^6+\\cdots\\right) = \\sum_{n=1}^{\\infty}p_{n}x^{n} \\\\ \\implies \\prod_{m=1}^{\\infty}\\left(\\sum_{k=0}^{\\infty}x^{mk}\\right)= \\sum_{n=1}^{\\infty}p_{n}x^n\\\\ \\implies \\frac{1}{(1 -x)(1-x^2)(1-x^3)\\cdots} = \\sum_{n=1}^{\\infty}p_{n}x^n$$.\n",
    "\n",
    "\n",
    "Now, $(1-x)(1-x^2)(1-x^3)\\cdots = 1 - x - x^2 +x^5 + x^7 - x^{12} - x^{15} + x^{22} + x^{26} -x^{35} - x^{40} + \\cdots$.\n",
    "\n",
    "Therefore, from the above relation, we get $(1- (x+x^2) + (x^5+x^7) - (x^{12} + x^{15})+\\cdots)\\left(1 + p_{1}x + p_{2}x^2 + p_{3}x^3 + \\cdots\\right)$."
   ]
  },
  {
   "cell_type": "markdown",
   "metadata": {},
   "source": [
    "Notice that, $(1 - (x+x^2) + (x^5+x^7) - (x^{12} + x^{15}) + \\cdots$ = $1 + \\sum_{k=1}^{\\infty}(-1)^{k}\\left(x^{k\\frac{3k+1}{2}} + x^{k\\frac{3k-1}{2}}\\right)$"
   ]
  },
  {
   "cell_type": "markdown",
   "metadata": {},
   "source": [
    "Hence, the coefficient of $x^{n}$ is zero in this product and so, we get $p_{n} - P_{n-1} - p_{n-2} + p_{n-5} + p_{n-7} -p_{n-12} - p_{n-15} +\\cdots =0\\\\ p_{n} = p_{n-1} + p_{n-2} - p_{n-5} -p_{n-7} +\\cdots\\\\$\n",
    "$p_{n} = \\sum_{k=1}^{n}\\left(p\\left(n-\\frac{k(3k-1)}{2}\\right) + p\\left(n - \\frac{k(3k+1)}{2}\\right)\\right)$.\n",
    "\n",
    "With this relation, we have $p_{0}=  0 \\text{ and } p_{k} = 0, \\forall k <0$."
   ]
  },
  {
   "cell_type": "code",
   "execution_count": 7,
   "metadata": {},
   "outputs": [],
   "source": [
    "import time"
   ]
  },
  {
   "cell_type": "code",
   "execution_count": 1,
   "metadata": {},
   "outputs": [],
   "source": [
    "### define a function to find the partition using the recursive relation\n",
    "\n",
    "def partition(n):\n",
    "    if n==0 or n==1:\n",
    "        return 1\n",
    "    else:\n",
    "        summand = 0\n",
    "        for k in range(1,n+1):\n",
    "            d1 = n - int((k*(3*k-1))/2)\n",
    "            d2 = n - int((k*(3*k +1))/2)\n",
    "            s = pow(-1,k+1)\n",
    "            summand += s*(partition(d1) + partition(d2))\n",
    "    return summand\n"
   ]
  },
  {
   "cell_type": "code",
   "execution_count": 2,
   "metadata": {},
   "outputs": [
    {
     "data": {
      "text/plain": [
       "15"
      ]
     },
     "execution_count": 2,
     "metadata": {},
     "output_type": "execute_result"
    }
   ],
   "source": [
    "partition(7)"
   ]
  },
  {
   "cell_type": "markdown",
   "metadata": {},
   "source": [
    "The idea behind this below code is taken from the paper titled \"The Pentagonal Number Theorem and All That\" by Dick Koch, August 26,2016."
   ]
  },
  {
   "cell_type": "code",
   "execution_count": 1,
   "metadata": {},
   "outputs": [],
   "source": [
    "def partition_euler(n):\n",
    "    N = n+1\n",
    "    P = [0]*N #number of series coefficients\n",
    "    P[0] = 1\n",
    "    P[1]=1\n",
    "    pinv = [0]*N # inverse of the p(n) series\n",
    "    k = 1\n",
    "    ind = (k*(3*k-1))//2\n",
    "    while ind <= N:\n",
    "        pinv[ind] = (-1)^k\n",
    "        ind = (k*(3*k+1))//2\n",
    "        if ind <= N:\n",
    "            pinv[ind] = (-1)^k\n",
    "        k +=1 \n",
    "        ind = k*(3*k-1)//2\n",
    "    for n in range(2,N):\n",
    "        P[n] = 0\n",
    "        for i in range(1,n):\n",
    "            P[n] -= P[n-i]*pinv[i]\n",
    "        P[n] -= pinv[n]\n",
    "        #print(f\"The partition of the integer {n} is : {P[n]}\")\n",
    "        print(P[n])\n",
    "    "
   ]
  },
  {
   "cell_type": "code",
   "execution_count": 5,
   "metadata": {
    "scrolled": true
   },
   "outputs": [
    {
     "name": "stdout",
     "output_type": "stream",
     "text": [
      "2\n",
      "3\n",
      "5\n",
      "7\n",
      "11\n",
      "15\n",
      "22\n",
      "30\n",
      "42\n",
      "56\n",
      "77\n",
      "101\n",
      "135\n",
      "176\n",
      "231\n",
      "297\n",
      "385\n",
      "490\n",
      "627\n",
      "792\n",
      "1002\n",
      "1255\n",
      "1575\n",
      "1958\n",
      "2436\n",
      "3010\n",
      "3718\n",
      "4565\n",
      "5604\n",
      "6842\n",
      "8349\n",
      "10143\n",
      "12310\n",
      "14883\n",
      "17977\n",
      "21637\n",
      "26015\n",
      "31185\n",
      "37338\n",
      "44583\n",
      "53174\n",
      "63261\n",
      "75175\n",
      "89134\n",
      "105558\n",
      "124754\n",
      "147273\n",
      "173525\n",
      "204226\n",
      "239943\n",
      "281589\n",
      "329931\n",
      "386155\n",
      "451276\n",
      "526823\n",
      "614154\n",
      "715220\n",
      "831820\n",
      "966467\n",
      "1121505\n",
      "1300156\n",
      "1505499\n",
      "1741630\n",
      "2012558\n",
      "2323520\n",
      "2679689\n",
      "3087735\n",
      "3554345\n",
      "4087968\n",
      "4697205\n",
      "5392783\n",
      "6185689\n",
      "7089500\n",
      "8118264\n",
      "9289091\n",
      "10619863\n",
      "12132164\n",
      "13848650\n",
      "15796476\n",
      "18004327\n",
      "20506255\n",
      "23338469\n",
      "26543660\n",
      "30167357\n",
      "34262962\n",
      "38887673\n",
      "44108109\n",
      "49995925\n",
      "56634173\n",
      "64112359\n",
      "72533807\n",
      "82010177\n",
      "92669720\n",
      "104651419\n",
      "118114304\n",
      "133230930\n",
      "150198136\n",
      "169229875\n",
      "190569292\n"
     ]
    }
   ],
   "source": [
    "partition_euler(100)"
   ]
  },
  {
   "cell_type": "code",
   "execution_count": 8,
   "metadata": {
    "scrolled": true
   },
   "outputs": [
    {
     "name": "stdout",
     "output_type": "stream",
     "text": [
      "2\n",
      "3\n",
      "5\n",
      "7\n",
      "11\n",
      "15\n",
      "22\n",
      "30\n",
      "42\n",
      "56\n",
      "77\n",
      "101\n",
      "135\n",
      "176\n",
      "231\n",
      "297\n",
      "385\n",
      "490\n",
      "627\n",
      "792\n",
      "1002\n",
      "1255\n",
      "1575\n",
      "1958\n",
      "2436\n",
      "3010\n",
      "3718\n",
      "4565\n",
      "5604\n",
      "6842\n",
      "8349\n",
      "10143\n",
      "12310\n",
      "14883\n",
      "17977\n",
      "21637\n",
      "26015\n",
      "31185\n",
      "37338\n",
      "44583\n",
      "53174\n",
      "63261\n",
      "75175\n",
      "89134\n",
      "105558\n",
      "124754\n",
      "147273\n",
      "173525\n",
      "204226\n",
      "239943\n",
      "281589\n",
      "329931\n",
      "386155\n",
      "451276\n",
      "526823\n",
      "614154\n",
      "715220\n",
      "831820\n",
      "966467\n",
      "1121505\n",
      "1300156\n",
      "1505499\n",
      "1741630\n",
      "2012558\n",
      "2323520\n",
      "2679689\n",
      "3087735\n",
      "3554345\n",
      "4087968\n",
      "4697205\n",
      "5392783\n",
      "6185689\n",
      "7089500\n",
      "8118264\n",
      "9289091\n",
      "10619863\n",
      "12132164\n",
      "13848650\n",
      "15796476\n",
      "18004327\n",
      "20506255\n",
      "23338469\n",
      "26543660\n",
      "30167357\n",
      "34262962\n",
      "38887673\n",
      "44108109\n",
      "49995925\n",
      "56634173\n",
      "64112359\n",
      "72533807\n",
      "82010177\n",
      "92669720\n",
      "104651419\n",
      "118114304\n",
      "133230930\n",
      "150198136\n",
      "169229875\n",
      "190569292\n"
     ]
    }
   ],
   "source": [
    "start = time.time()\n",
    "euler= partition_euler(100)\n",
    "end = time.time()"
   ]
  },
  {
   "cell_type": "code",
   "execution_count": null,
   "metadata": {},
   "outputs": [],
   "source": []
  },
  {
   "cell_type": "code",
   "execution_count": 9,
   "metadata": {},
   "outputs": [
    {
     "name": "stdout",
     "output_type": "stream",
     "text": [
      "The time taken by the algorithm ot compute the number of partitions from 1 to 100 is 0.010828495025634766\n"
     ]
    }
   ],
   "source": [
    "print(f\"The time taken by the algorithm ot compute the number of partitions from 1 to 100 is\", end - start)"
   ]
  },
  {
   "cell_type": "markdown",
   "metadata": {},
   "source": [
    "In this file add that rule by Ramanujan to comoute the partition."
   ]
  },
  {
   "cell_type": "markdown",
   "metadata": {},
   "source": [
    "**Partition of an integer:** For each integer $n$, the number of partitions is denoted by $p(n)$.\n",
    "\n",
    "The asymptotic formula for the number of partitions of an integer $p(n)$, first obtained by $\\text{G.H.Hardy}$ and $\\text{Ramanujan}$ in $1918$ is as $n \\to \\infty$, $$p(n) \\sim \\frac{1}{4n\\sqrt{3}}exp \\left(\\pi \\sqrt{\\frac{2n}{3}}\\right)$$"
   ]
  },
  {
   "cell_type": "code",
   "execution_count": 10,
   "metadata": {},
   "outputs": [],
   "source": [
    "## finding partition of an integer using inbuilt function in sagemath\n",
    "# partition of integers 5,10,15,.. upto 50\n",
    "n = 5\n",
    "N =[n*i for i in range(1,11)]\n",
    "p_n_val = []\n",
    "for val in N:\n",
    "    parts = Partitions(val)\n",
    "    p_n_val.append(parts.cardinality())\n",
    "    "
   ]
  },
  {
   "cell_type": "code",
   "execution_count": 11,
   "metadata": {},
   "outputs": [
    {
     "data": {
      "text/plain": [
       "[7, 42, 176, 627, 1958, 5604, 14883, 37338, 89134, 204226]"
      ]
     },
     "execution_count": 11,
     "metadata": {},
     "output_type": "execute_result"
    }
   ],
   "source": [
    "p_n_val"
   ]
  },
  {
   "cell_type": "code",
   "execution_count": 20,
   "metadata": {},
   "outputs": [
    {
     "name": "stdout",
     "output_type": "stream",
     "text": [
      "taken time is 0.001569509506225586\n"
     ]
    }
   ],
   "source": [
    "## finding partition of an integer using inbuilt function in sagemath\n",
    "\n",
    "n = 1\n",
    "N =[n*i for i in range(2,101)]\n",
    "partition_val = []\n",
    "strt = time.time()\n",
    "for val in N:\n",
    "    parts = Partitions(val)\n",
    "    partition_val.append(parts.cardinality())\n",
    "end = time.time()\n",
    "print(f\"taken time is\", end - strt)"
   ]
  },
  {
   "cell_type": "code",
   "execution_count": 23,
   "metadata": {
    "scrolled": true
   },
   "outputs": [
    {
     "data": {
      "text/plain": [
       "[2,\n",
       " 3,\n",
       " 5,\n",
       " 7,\n",
       " 11,\n",
       " 15,\n",
       " 22,\n",
       " 30,\n",
       " 42,\n",
       " 56,\n",
       " 77,\n",
       " 101,\n",
       " 135,\n",
       " 176,\n",
       " 231,\n",
       " 297,\n",
       " 385,\n",
       " 490,\n",
       " 627,\n",
       " 792,\n",
       " 1002,\n",
       " 1255,\n",
       " 1575,\n",
       " 1958,\n",
       " 2436,\n",
       " 3010,\n",
       " 3718,\n",
       " 4565,\n",
       " 5604,\n",
       " 6842,\n",
       " 8349,\n",
       " 10143,\n",
       " 12310,\n",
       " 14883,\n",
       " 17977,\n",
       " 21637,\n",
       " 26015,\n",
       " 31185,\n",
       " 37338,\n",
       " 44583,\n",
       " 53174,\n",
       " 63261,\n",
       " 75175,\n",
       " 89134,\n",
       " 105558,\n",
       " 124754,\n",
       " 147273,\n",
       " 173525,\n",
       " 204226,\n",
       " 239943,\n",
       " 281589,\n",
       " 329931,\n",
       " 386155,\n",
       " 451276,\n",
       " 526823,\n",
       " 614154,\n",
       " 715220,\n",
       " 831820,\n",
       " 966467,\n",
       " 1121505,\n",
       " 1300156,\n",
       " 1505499,\n",
       " 1741630,\n",
       " 2012558,\n",
       " 2323520,\n",
       " 2679689,\n",
       " 3087735,\n",
       " 3554345,\n",
       " 4087968,\n",
       " 4697205,\n",
       " 5392783,\n",
       " 6185689,\n",
       " 7089500,\n",
       " 8118264,\n",
       " 9289091,\n",
       " 10619863,\n",
       " 12132164,\n",
       " 13848650,\n",
       " 15796476,\n",
       " 18004327,\n",
       " 20506255,\n",
       " 23338469,\n",
       " 26543660,\n",
       " 30167357,\n",
       " 34262962,\n",
       " 38887673,\n",
       " 44108109,\n",
       " 49995925,\n",
       " 56634173,\n",
       " 64112359,\n",
       " 72533807,\n",
       " 82010177,\n",
       " 92669720,\n",
       " 104651419,\n",
       " 118114304,\n",
       " 133230930,\n",
       " 150198136,\n",
       " 169229875,\n",
       " 190569292]"
      ]
     },
     "execution_count": 23,
     "metadata": {},
     "output_type": "execute_result"
    }
   ],
   "source": [
    "partition_val"
   ]
  },
  {
   "cell_type": "code",
   "execution_count": 14,
   "metadata": {},
   "outputs": [],
   "source": [
    "def Ramanujan_approximation(n):\n",
    "    return ((1/(4*n*sqrt(3)))*exp(pi*sqrt((2*n)/3))).n()"
   ]
  },
  {
   "cell_type": "code",
   "execution_count": 15,
   "metadata": {},
   "outputs": [],
   "source": [
    "approx_partition = []\n",
    "for val in N:\n",
    "    temp = Ramanujan_approximation(val)\n",
    "    approx_partition.append(temp)"
   ]
  },
  {
   "cell_type": "code",
   "execution_count": 16,
   "metadata": {
    "scrolled": true
   },
   "outputs": [
    {
     "data": {
      "text/plain": [
       "[2.71516043156120,\n",
       " 4.09051199362822,\n",
       " 6.10009566640572,\n",
       " 8.94145914916488,\n",
       " 12.8819271444175,\n",
       " 18.2671640659623,\n",
       " 25.5376902463842,\n",
       " 35.2502950057611,\n",
       " 48.1043088172208,\n",
       " 64.9733603364109,\n",
       " 86.9435207512862,\n",
       " 115.358940483292,\n",
       " 151.876282240109,\n",
       " 198.529471321460,\n",
       " 257.806528376833,\n",
       " 332.740527729038,\n",
       " 427.017041408995,\n",
       " 545.100790815855,\n",
       " 692.384640509500,\n",
       " 875.364538793732,\n",
       " 1101.84454496583,\n",
       " 1381.17669178418,\n",
       " 1724.54112322839,\n",
       " 2145.27273249647,\n",
       " 2659.24141514036,\n",
       " 3285.29406040309,\n",
       " 4045.76754483562,\n",
       " 4967.08328248773,\n",
       " 6080.43534361637,\n",
       " 7422.58579925793,\n",
       " 9036.78280480466,\n",
       " 10973.8190271044,\n",
       " 13293.2503746035,\n",
       " 16064.7976398448,\n",
       " 19369.9566428462,\n",
       " 23303.8458110022,\n",
       " 27977.3238888516,\n",
       " 33519.4146867301,\n",
       " 40080.0805034790,\n",
       " 47833.3911532337,\n",
       " 56981.1414543343,\n",
       " 67756.9766709556,\n",
       " 80431.0928141341,\n",
       " 95315.5869958119,\n",
       " 112770.542283893,\n",
       " 133210.941834797,\n",
       " 157114.518600422,\n",
       " 185030.659748911,\n",
       " 217590.499246580,\n",
       " 255518.347980225,\n",
       " 299644.628529203,\n",
       " 350920.501417484,\n",
       " 410434.391599159,\n",
       " 479430.648289881,\n",
       " 559330.598307937,\n",
       " 651756.283114803,\n",
       " 758557.203056213,\n",
       " 881840.429242737,\n",
       " 1.02400448444842e6,\n",
       " 1.18777743975931e6,\n",
       " 1.37625972392321e6,\n",
       " 1.59297219793358e6,\n",
       " 1.84191010887044e6,\n",
       " 2.12760360501503e6,\n",
       " 2.45518556940944e6,\n",
       " 2.83046761206492e6,\n",
       " 3.26002515271989e6,\n",
       " 3.75129262727225e6,\n",
       " 4.31266996270417e6,\n",
       " 4.95364158851365e6,\n",
       " 5.68490938849539e6,\n",
       " 6.51854114640993e6,\n",
       " 7.46813620399569e6,\n",
       " 8.54901023139122e6,\n",
       " 9.77840120995789e6,\n",
       " 1.11756989474902e7,\n",
       " 1.27627006877982e7,\n",
       " 1.45638956427462e7,\n",
       " 1.66067815673267e7,\n",
       " 1.89222168197482e7,\n",
       " 2.15448117015420e7,\n",
       " 2.45133632603344e7,\n",
       " 2.78713381634255e7,\n",
       " 3.16674087172108e7,\n",
       " 3.59560476196182e7,\n",
       " 4.07981875943352e7,\n",
       " 4.62619526712107e7,\n",
       " 5.24234685518407e7,\n",
       " 5.93677602383846e7,\n",
       " 6.71897459130180e7,\n",
       " 7.59953369415175e7,\n",
       " 8.59026548442631e7,\n",
       " 9.70433771390301e7,\n",
       " 1.09564225120557e8,\n",
       " 1.23628607910975e8,\n",
       " 1.39418438502518e8,\n",
       " 1.57136139030040e8,\n",
       " 1.77006854167257e8,\n",
       " 1.99280893349740e8]"
      ]
     },
     "execution_count": 16,
     "metadata": {},
     "output_type": "execute_result"
    }
   ],
   "source": [
    "approx_partition"
   ]
  },
  {
   "cell_type": "code",
   "execution_count": 18,
   "metadata": {},
   "outputs": [],
   "source": [
    "import matplotlib.pyplot as plt"
   ]
  },
  {
   "cell_type": "code",
   "execution_count": 24,
   "metadata": {},
   "outputs": [
    {
     "data": {
      "image/png": "[encoded data removed]",
      "text/plain": [
       "<Figure size 432x288 with 1 Axes>"
      ]
     },
     "metadata": {
      "needs_background": "light"
     },
     "output_type": "display_data"
    }
   ],
   "source": [
    "plt.plot(N,partition_val,c=\"b\",label =\"Using in-built function\")\n",
    "plt.plot(N,approx_partition,c = \"r\",label =\"Ramanujan and Hardy\")\n",
    "plt.legend(bbox_to_anchor =(1.04,1));"
   ]
  },
  {
   "cell_type": "code",
   "execution_count": null,
   "metadata": {},
   "outputs": [],
   "source": []
  }
 ],
 "metadata": {
  "kernelspec": {
   "display_name": "SageMath 9.3",
   "language": "sage",
   "name": "sagemath"
  },
  "language_info": {
   "codemirror_mode": {
    "name": "ipython",
    "version": 3
   },
   "file_extension": ".py",
   "mimetype": "text/x-python",
   "name": "python",
   "nbconvert_exporter": "python",
   "pygments_lexer": "ipython3",
   "version": "3.7.10"
  }
 },
 "nbformat": 4,
 "nbformat_minor": 4
}
