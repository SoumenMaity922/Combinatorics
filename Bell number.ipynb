{
 "cells": [
  {
   "cell_type": "markdown",
   "metadata": {},
   "source": [
    "**Bell Number:** The number of all partitions of $[n]$ is $\\sum_{k=1}^{n}S(n,k)$, which is called as Bell Number $B(n)$. So, $B(n) = \\sum_{k=1}^{n}S(n,k)$.\n",
    "\n",
    "In theory class, we have seen that $B(0) = 1$a and $B(n+1) = \\sum_{k=0}^{n}B(k){n \\choose k}$."
   ]
  },
  {
   "cell_type": "code",
   "execution_count": 1,
   "metadata": {},
   "outputs": [],
   "source": [
    "import time"
   ]
  },
  {
   "cell_type": "code",
   "execution_count": 2,
   "metadata": {},
   "outputs": [],
   "source": [
    "def bell_number_1(n):\n",
    "    temp = 0\n",
    "    for k in [1,2,..,n]:\n",
    "        temp += stirling_number2(n,k)\n",
    "    return temp"
   ]
  },
  {
   "cell_type": "code",
   "execution_count": 3,
   "metadata": {},
   "outputs": [
    {
     "ename": "SyntaxError",
     "evalue": "invalid syntax (<ipython-input-3-46f6b42cb121>, line 7)",
     "output_type": "error",
     "traceback": [
      "\u001b[0;36m  File \u001b[0;32m\"<ipython-input-3-46f6b42cb121>\"\u001b[0;36m, line \u001b[0;32m7\u001b[0m\n\u001b[0;31m    tem p= bell_number_1(n)\u001b[0m\n\u001b[0m        ^\u001b[0m\n\u001b[0;31mSyntaxError\u001b[0m\u001b[0;31m:\u001b[0m invalid syntax\n"
     ]
    }
   ],
   "source": [
    "nl = [1,..,20]\n",
    "bell = []\n",
    "strt = time.time()\n",
    "time_list1=[]\n",
    "for n in nlist:\n",
    "    srt = time.time()\n",
    "    tem p= bell_number_1(n)\n",
    "    end = time.time()\n",
    "    time_list1.append(end- srt)\n",
    "    bell.append(temp)\n",
    "end = time.time()"
   ]
  },
  {
   "cell_type": "code",
   "execution_count": 4,
   "metadata": {},
   "outputs": [
    {
     "ename": "NameError",
     "evalue": "name 'strt' is not defined",
     "output_type": "error",
     "traceback": [
      "\u001b[0;31m---------------------------------------------------------------------------\u001b[0m",
      "\u001b[0;31mNameError\u001b[0m                                 Traceback (most recent call last)",
      "\u001b[0;32m<ipython-input-4-1ad07d5079cd>\u001b[0m in \u001b[0;36m<module>\u001b[0;34m\u001b[0m\n\u001b[0;32m----> 1\u001b[0;31m \u001b[0mprint\u001b[0m\u001b[0;34m(\u001b[0m\u001b[0;34mf\"The time taken to compute Bell numebr for all the numbers given in the list is \"\u001b[0m\u001b[0;34m,\u001b[0m \u001b[0mend\u001b[0m \u001b[0;34m-\u001b[0m \u001b[0mstrt\u001b[0m\u001b[0;34m)\u001b[0m\u001b[0;34m\u001b[0m\u001b[0;34m\u001b[0m\u001b[0m\n\u001b[0m",
      "\u001b[0;31mNameError\u001b[0m: name 'strt' is not defined"
     ]
    }
   ],
   "source": [
    "print(f\"The time taken to compute Bell numebr for all the numbers given in the list is \", end - strt)"
   ]
  },
  {
   "cell_type": "code",
   "execution_count": null,
   "metadata": {},
   "outputs": [],
   "source": [
    "print(f\"The time taken to compute the Bell number are \\n\",time_list1)"
   ]
  },
  {
   "cell_type": "markdown",
   "metadata": {},
   "source": [
    "**Concept of Multisests:** Suppose we have a collection of some distinct objects, called it as ususal set $S$. Now, we want a collection in which each element has to come from the set $S$ and repititions are allowed but the order of the elements does not matter. So, to model this type of situations we need a new concept, called multisets over  the set $S$."
   ]
  },
  {
   "cell_type": "markdown",
   "metadata": {},
   "source": [
    "**Finding the multisets:** Let the set $S$ has $k$ elements and they are distinct and we want $n$ element multisets for $n \\ge 0$ over this $k$-element set. So, we need to find a $k$-tuple $\\left(a_1,a_2,\\cdots,a_{k}\\right)$ such that $\\sum_{i=1}^{k}a_{i} = n$. It is clear that, $a_{i} \\ge 0$ because it is not necessary that each element has to appear atleast once in the multisets. This ordered tuple we called a weak composition of $n$ into $k$ parts.\n",
    "\n",
    "In our theiry class, we have seen that, the number of weak compositions of $n$ into $k$ parts is ${n+k-1}\\choose n$ = ${n+k-1} \\choose {k-1}$. \n",
    "\n",
    "Suppose we have two elements set, $I_2 = \\{1,2\\}$. We want $4$ elements multisets over $i_2$. We can list out all the possible multisets using in-built function and find the number of possible multisets by the above formula."
   ]
  },
  {
   "cell_type": "code",
   "execution_count": null,
   "metadata": {},
   "outputs": [],
   "source": [
    "import itertools as itr"
   ]
  },
  {
   "cell_type": "code",
   "execution_count": null,
   "metadata": {},
   "outputs": [],
   "source": [
    "n = 4\n",
    "k = 2\n",
    "I2 = [1,..,k]\n",
    "multisets = list(itr.combinations_with_replacement(I2,n))\n",
    "print(f\"The all possible multisets over {I2} are \", multisets)\n"
   ]
  },
  {
   "cell_type": "code",
   "execution_count": null,
   "metadata": {},
   "outputs": [],
   "source": [
    "binomial(n+k-1,n)"
   ]
  },
  {
   "cell_type": "code",
   "execution_count": null,
   "metadata": {},
   "outputs": [],
   "source": [
    "binomial(n+k-1,k-1)"
   ]
  },
  {
   "cell_type": "code",
   "execution_count": null,
   "metadata": {},
   "outputs": [],
   "source": []
  },
  {
   "cell_type": "code",
   "execution_count": null,
   "metadata": {},
   "outputs": [],
   "source": []
  }
 ],
 "metadata": {
  "kernelspec": {
   "display_name": "SageMath 9.3",
   "language": "sage",
   "name": "sagemath"
  },
  "language_info": {
   "codemirror_mode": {
    "name": "ipython",
    "version": 3
   },
   "file_extension": ".py",
   "mimetype": "text/x-python",
   "name": "python",
   "nbconvert_exporter": "python",
   "pygments_lexer": "ipython3",
   "version": "3.7.10"
  }
 },
 "nbformat": 4,
 "nbformat_minor": 4
}
